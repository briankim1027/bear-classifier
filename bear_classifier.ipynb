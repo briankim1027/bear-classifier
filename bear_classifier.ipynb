{
  "nbformat": 4,
  "nbformat_minor": 0,
  "metadata": {
    "colab": {
      "name": "bear_classifier",
      "provenance": [],
      "collapsed_sections": []
    },
    "kernelspec": {
      "name": "python3",
      "display_name": "Python 3"
    },
    "accelerator": "GPU",
    "widgets": {
      "application/vnd.jupyter.widget-state+json": {
        "57d87c672fdc438d9667551a1aaf043b": {
          "model_module": "@jupyter-widgets/controls",
          "model_name": "VBoxModel",
          "state": {
            "_view_name": "VBoxView",
            "_dom_classes": [],
            "_model_name": "VBoxModel",
            "_view_module": "@jupyter-widgets/controls",
            "_model_module_version": "1.5.0",
            "_view_count": null,
            "_view_module_version": "1.5.0",
            "box_style": "",
            "layout": "IPY_MODEL_0b4936076dbd4a9e92a975bd19202cf6",
            "_model_module": "@jupyter-widgets/controls",
            "children": [
              "IPY_MODEL_a8ebc9c9eac341788f131a8e9e200ce6",
              "IPY_MODEL_74de810be21c48b297d2c9213cda525f",
              "IPY_MODEL_49f36eb43b074ce983a8dc86f543accc",
              "IPY_MODEL_8da7d9bd43204954b76d4917345c6403"
            ]
          }
        },
        "0b4936076dbd4a9e92a975bd19202cf6": {
          "model_module": "@jupyter-widgets/base",
          "model_name": "LayoutModel",
          "state": {
            "_view_name": "LayoutView",
            "grid_template_rows": null,
            "right": null,
            "justify_content": null,
            "_view_module": "@jupyter-widgets/base",
            "overflow": null,
            "_model_module_version": "1.2.0",
            "_view_count": null,
            "flex_flow": null,
            "width": null,
            "min_width": null,
            "border": null,
            "align_items": null,
            "bottom": null,
            "_model_module": "@jupyter-widgets/base",
            "top": null,
            "grid_column": null,
            "overflow_y": null,
            "overflow_x": null,
            "grid_auto_flow": null,
            "grid_area": null,
            "grid_template_columns": null,
            "flex": null,
            "_model_name": "LayoutModel",
            "justify_items": null,
            "grid_row": null,
            "max_height": null,
            "align_content": null,
            "visibility": null,
            "align_self": null,
            "height": null,
            "min_height": null,
            "padding": null,
            "grid_auto_rows": null,
            "grid_gap": null,
            "max_width": null,
            "order": null,
            "_view_module_version": "1.2.0",
            "grid_template_areas": null,
            "object_position": null,
            "object_fit": null,
            "grid_auto_columns": null,
            "margin": null,
            "display": null,
            "left": null
          }
        },
        "a8ebc9c9eac341788f131a8e9e200ce6": {
          "model_module": "@jupyter-widgets/controls",
          "model_name": "LabelModel",
          "state": {
            "_view_name": "LabelView",
            "style": "IPY_MODEL_5524bd82e17043408b5d1b49004f908e",
            "_dom_classes": [],
            "description": "",
            "_model_name": "LabelModel",
            "placeholder": "​",
            "_view_module": "@jupyter-widgets/controls",
            "_model_module_version": "1.5.0",
            "value": "Select your bear!",
            "_view_count": null,
            "_view_module_version": "1.5.0",
            "description_tooltip": null,
            "_model_module": "@jupyter-widgets/controls",
            "layout": "IPY_MODEL_5c7e0e9fc5c64506b26b2773688a267c"
          }
        },
        "74de810be21c48b297d2c9213cda525f": {
          "model_module": "@jupyter-widgets/controls",
          "model_name": "FileUploadModel",
          "state": {
            "_view_name": "FileUploadView",
            "_counter": 1,
            "style": "IPY_MODEL_d9c630ed0e5344abb2b33a1feac3a3ac",
            "_dom_classes": [],
            "description": "Upload",
            "multiple": false,
            "_model_name": "FileUploadModel",
            "data": [
              null
            ],
            "button_style": "",
            "_view_module": "@jupyter-widgets/controls",
            "_model_module_version": "1.5.0",
            "accept": "",
            "_view_count": null,
            "disabled": false,
            "_view_module_version": "1.5.0",
            "error": "",
            "description_tooltip": null,
            "metadata": [
              {
                "name": "00000175.jpg",
                "type": "image/jpeg",
                "size": 56494,
                "lastModified": 1598331617146
              }
            ],
            "_model_module": "@jupyter-widgets/controls",
            "layout": "IPY_MODEL_fa52bcad86b141baa36600bfa851b271",
            "icon": "upload"
          }
        },
        "49f36eb43b074ce983a8dc86f543accc": {
          "model_module": "@jupyter-widgets/output",
          "model_name": "OutputModel",
          "state": {
            "_view_name": "OutputView",
            "msg_id": "",
            "_dom_classes": [],
            "_model_name": "OutputModel",
            "outputs": [
              {
                "output_type": "display_data",
                "metadata": {
                  "tags": []
                },
                "image/png": "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\n",
                "text/plain": "<PIL.Image.Image image mode=RGB size=96x128 at 0x7F0E1111A748>"
              }
            ],
            "_view_module": "@jupyter-widgets/output",
            "_model_module_version": "1.0.0",
            "_view_count": null,
            "_view_module_version": "1.0.0",
            "layout": "IPY_MODEL_8942e305d52f459fbcde33ec0f4dfdae",
            "_model_module": "@jupyter-widgets/output"
          }
        },
        "8da7d9bd43204954b76d4917345c6403": {
          "model_module": "@jupyter-widgets/controls",
          "model_name": "LabelModel",
          "state": {
            "_view_name": "LabelView",
            "style": "IPY_MODEL_ddf5b08376b947e2b1877ae1f5eda754",
            "_dom_classes": [],
            "description": "",
            "_model_name": "LabelModel",
            "placeholder": "​",
            "_view_module": "@jupyter-widgets/controls",
            "_model_module_version": "1.5.0",
            "value": "Prediction: black; Probability: 0.9997",
            "_view_count": null,
            "_view_module_version": "1.5.0",
            "description_tooltip": null,
            "_model_module": "@jupyter-widgets/controls",
            "layout": "IPY_MODEL_f5caf757163f47c6950d7bed927068f6"
          }
        },
        "5524bd82e17043408b5d1b49004f908e": {
          "model_module": "@jupyter-widgets/controls",
          "model_name": "DescriptionStyleModel",
          "state": {
            "_view_name": "StyleView",
            "_model_name": "DescriptionStyleModel",
            "description_width": "",
            "_view_module": "@jupyter-widgets/base",
            "_model_module_version": "1.5.0",
            "_view_count": null,
            "_view_module_version": "1.2.0",
            "_model_module": "@jupyter-widgets/controls"
          }
        },
        "5c7e0e9fc5c64506b26b2773688a267c": {
          "model_module": "@jupyter-widgets/base",
          "model_name": "LayoutModel",
          "state": {
            "_view_name": "LayoutView",
            "grid_template_rows": null,
            "right": null,
            "justify_content": null,
            "_view_module": "@jupyter-widgets/base",
            "overflow": null,
            "_model_module_version": "1.2.0",
            "_view_count": null,
            "flex_flow": null,
            "width": null,
            "min_width": null,
            "border": null,
            "align_items": null,
            "bottom": null,
            "_model_module": "@jupyter-widgets/base",
            "top": null,
            "grid_column": null,
            "overflow_y": null,
            "overflow_x": null,
            "grid_auto_flow": null,
            "grid_area": null,
            "grid_template_columns": null,
            "flex": null,
            "_model_name": "LayoutModel",
            "justify_items": null,
            "grid_row": null,
            "max_height": null,
            "align_content": null,
            "visibility": null,
            "align_self": null,
            "height": null,
            "min_height": null,
            "padding": null,
            "grid_auto_rows": null,
            "grid_gap": null,
            "max_width": null,
            "order": null,
            "_view_module_version": "1.2.0",
            "grid_template_areas": null,
            "object_position": null,
            "object_fit": null,
            "grid_auto_columns": null,
            "margin": null,
            "display": null,
            "left": null
          }
        },
        "d9c630ed0e5344abb2b33a1feac3a3ac": {
          "model_module": "@jupyter-widgets/controls",
          "model_name": "ButtonStyleModel",
          "state": {
            "_view_name": "StyleView",
            "_model_name": "ButtonStyleModel",
            "_view_module": "@jupyter-widgets/base",
            "_model_module_version": "1.5.0",
            "_view_count": null,
            "button_color": null,
            "font_weight": "",
            "_view_module_version": "1.2.0",
            "_model_module": "@jupyter-widgets/controls"
          }
        },
        "fa52bcad86b141baa36600bfa851b271": {
          "model_module": "@jupyter-widgets/base",
          "model_name": "LayoutModel",
          "state": {
            "_view_name": "LayoutView",
            "grid_template_rows": null,
            "right": null,
            "justify_content": null,
            "_view_module": "@jupyter-widgets/base",
            "overflow": null,
            "_model_module_version": "1.2.0",
            "_view_count": null,
            "flex_flow": null,
            "width": null,
            "min_width": null,
            "border": null,
            "align_items": null,
            "bottom": null,
            "_model_module": "@jupyter-widgets/base",
            "top": null,
            "grid_column": null,
            "overflow_y": null,
            "overflow_x": null,
            "grid_auto_flow": null,
            "grid_area": null,
            "grid_template_columns": null,
            "flex": null,
            "_model_name": "LayoutModel",
            "justify_items": null,
            "grid_row": null,
            "max_height": null,
            "align_content": null,
            "visibility": null,
            "align_self": null,
            "height": null,
            "min_height": null,
            "padding": null,
            "grid_auto_rows": null,
            "grid_gap": null,
            "max_width": null,
            "order": null,
            "_view_module_version": "1.2.0",
            "grid_template_areas": null,
            "object_position": null,
            "object_fit": null,
            "grid_auto_columns": null,
            "margin": null,
            "display": null,
            "left": null
          }
        },
        "ddf5b08376b947e2b1877ae1f5eda754": {
          "model_module": "@jupyter-widgets/controls",
          "model_name": "DescriptionStyleModel",
          "state": {
            "_view_name": "StyleView",
            "_model_name": "DescriptionStyleModel",
            "description_width": "",
            "_view_module": "@jupyter-widgets/base",
            "_model_module_version": "1.5.0",
            "_view_count": null,
            "_view_module_version": "1.2.0",
            "_model_module": "@jupyter-widgets/controls"
          }
        },
        "f5caf757163f47c6950d7bed927068f6": {
          "model_module": "@jupyter-widgets/base",
          "model_name": "LayoutModel",
          "state": {
            "_view_name": "LayoutView",
            "grid_template_rows": null,
            "right": null,
            "justify_content": null,
            "_view_module": "@jupyter-widgets/base",
            "overflow": null,
            "_model_module_version": "1.2.0",
            "_view_count": null,
            "flex_flow": null,
            "width": null,
            "min_width": null,
            "border": null,
            "align_items": null,
            "bottom": null,
            "_model_module": "@jupyter-widgets/base",
            "top": null,
            "grid_column": null,
            "overflow_y": null,
            "overflow_x": null,
            "grid_auto_flow": null,
            "grid_area": null,
            "grid_template_columns": null,
            "flex": null,
            "_model_name": "LayoutModel",
            "justify_items": null,
            "grid_row": null,
            "max_height": null,
            "align_content": null,
            "visibility": null,
            "align_self": null,
            "height": null,
            "min_height": null,
            "padding": null,
            "grid_auto_rows": null,
            "grid_gap": null,
            "max_width": null,
            "order": null,
            "_view_module_version": "1.2.0",
            "grid_template_areas": null,
            "object_position": null,
            "object_fit": null,
            "grid_auto_columns": null,
            "margin": null,
            "display": null,
            "left": null
          }
        },
        "8942e305d52f459fbcde33ec0f4dfdae": {
          "model_module": "@jupyter-widgets/base",
          "model_name": "LayoutModel",
          "state": {
            "_view_name": "LayoutView",
            "grid_template_rows": null,
            "right": null,
            "justify_content": null,
            "_view_module": "@jupyter-widgets/base",
            "overflow": null,
            "_model_module_version": "1.2.0",
            "_view_count": null,
            "flex_flow": null,
            "width": null,
            "min_width": null,
            "border": null,
            "align_items": null,
            "bottom": null,
            "_model_module": "@jupyter-widgets/base",
            "top": null,
            "grid_column": null,
            "overflow_y": null,
            "overflow_x": null,
            "grid_auto_flow": null,
            "grid_area": null,
            "grid_template_columns": null,
            "flex": null,
            "_model_name": "LayoutModel",
            "justify_items": null,
            "grid_row": null,
            "max_height": null,
            "align_content": null,
            "visibility": null,
            "align_self": null,
            "height": null,
            "min_height": null,
            "padding": null,
            "grid_auto_rows": null,
            "grid_gap": null,
            "max_width": null,
            "order": null,
            "_view_module_version": "1.2.0",
            "grid_template_areas": null,
            "object_position": null,
            "object_fit": null,
            "grid_auto_columns": null,
            "margin": null,
            "display": null,
            "left": null
          }
        }
      }
    }
  },
  "cells": [
    {
      "cell_type": "code",
      "metadata": {
        "id": "iGtGiy8Ianw-",
        "colab_type": "code",
        "colab": {
          "base_uri": "https://localhost:8080/",
          "height": 107
        },
        "outputId": "e0cbd75f-fb02-49c0-f25f-d36b8120cb9c"
      },
      "source": [
        "!curl https://course.fast.ai/setup/colab | bash"
      ],
      "execution_count": null,
      "outputs": [
        {
          "output_type": "stream",
          "text": [
            "  % Total    % Received % Xferd  Average Speed   Time    Time     Time  Current\n",
            "                                 Dload  Upload   Total   Spent    Left  Speed\n",
            "\r  0     0    0     0    0     0      0      0 --:--:-- --:--:-- --:--:--     0\r100  9127    0  9127    0     0  54327      0 --:--:-- --bash: line 1: syntax error near unexpected token `newline'\n",
            ":bash: line 1: `<!DOCTYPE html>'\n",
            "--:-- --:--:-- 54327\n"
          ],
          "name": "stdout"
        }
      ]
    },
    {
      "cell_type": "code",
      "metadata": {
        "id": "PeDvLerDax2c",
        "colab_type": "code",
        "colab": {}
      },
      "source": [
        "%reload_ext autoreload\n",
        "%autoreload 2"
      ],
      "execution_count": null,
      "outputs": []
    },
    {
      "cell_type": "code",
      "metadata": {
        "id": "9qSL-xaqa83w",
        "colab_type": "code",
        "colab": {
          "base_uri": "https://localhost:8080/",
          "height": 127
        },
        "outputId": "a172d12f-0135-47ec-ca2b-403702ad25cc"
      },
      "source": [
        "from google.colab import drive\n",
        "drive.mount('/content/gdrive', force_remount=True)\n",
        "root_dir = \"/content/gdrive/My Drive/\""
      ],
      "execution_count": null,
      "outputs": [
        {
          "output_type": "stream",
          "text": [
            "Go to this URL in a browser: https://accounts.google.com/o/oauth2/auth?client_id=947318989803-6bn6qk8qdgf4n4g3pfee6491hc0brc4i.apps.googleusercontent.com&redirect_uri=urn%3aietf%3awg%3aoauth%3a2.0%3aoob&scope=email%20https%3a%2f%2fwww.googleapis.com%2fauth%2fdocs.test%20https%3a%2f%2fwww.googleapis.com%2fauth%2fdrive%20https%3a%2f%2fwww.googleapis.com%2fauth%2fdrive.photos.readonly%20https%3a%2f%2fwww.googleapis.com%2fauth%2fpeopleapi.readonly&response_type=code\n",
            "\n",
            "Enter your authorization code:\n",
            "··········\n",
            "Mounted at /content/gdrive\n"
          ],
          "name": "stdout"
        }
      ]
    },
    {
      "cell_type": "code",
      "metadata": {
        "id": "8iJZxt_TbMMd",
        "colab_type": "code",
        "colab": {
          "base_uri": "https://localhost:8080/",
          "height": 179
        },
        "outputId": "d2b38e07-f830-47a8-b182-37522994e3db"
      },
      "source": [
        "!pip install -Uqq fastbook\n",
        "import fastbook\n",
        "fastbook.setup_book()"
      ],
      "execution_count": null,
      "outputs": [
        {
          "output_type": "stream",
          "text": [
            "\u001b[?25l\r\u001b[K     |███████                         | 10kB 24.0MB/s eta 0:00:01\r\u001b[K     |██████████████                  | 20kB 28.4MB/s eta 0:00:01\r\u001b[K     |█████████████████████           | 30kB 10.4MB/s eta 0:00:01\r\u001b[K     |████████████████████████████    | 40kB 12.4MB/s eta 0:00:01\r\u001b[K     |████████████████████████████████| 51kB 5.3MB/s \n",
            "\u001b[K     |████████████████████████████████| 61kB 6.9MB/s \n",
            "\u001b[K     |████████████████████████████████| 1.0MB 16.6MB/s \n",
            "\u001b[K     |████████████████████████████████| 358kB 32.6MB/s \n",
            "\u001b[K     |████████████████████████████████| 40kB 6.8MB/s \n",
            "\u001b[K     |████████████████████████████████| 92kB 12.6MB/s \n",
            "\u001b[K     |████████████████████████████████| 61kB 9.6MB/s \n",
            "\u001b[K     |████████████████████████████████| 51kB 8.3MB/s \n",
            "\u001b[K     |████████████████████████████████| 2.7MB 41.5MB/s \n",
            "\u001b[?25h"
          ],
          "name": "stdout"
        }
      ]
    },
    {
      "cell_type": "code",
      "metadata": {
        "id": "ym8PifwPbcyI",
        "colab_type": "code",
        "colab": {}
      },
      "source": [
        "from fastbook import *\n",
        "from fastai.vision.widgets import *"
      ],
      "execution_count": null,
      "outputs": []
    },
    {
      "cell_type": "code",
      "metadata": {
        "id": "QLwgjWzFbkW_",
        "colab_type": "code",
        "colab": {
          "base_uri": "https://localhost:8080/",
          "height": 1000
        },
        "outputId": "b60572e6-fdf7-4f5a-fd49-c80ef8c8ed09"
      },
      "source": [
        "!pip install voila\n",
        "!jupyter serverextension enable voila —sys-prefix"
      ],
      "execution_count": null,
      "outputs": [
        {
          "output_type": "stream",
          "text": [
            "Collecting voila\n",
            "\u001b[?25l  Downloading https://files.pythonhosted.org/packages/07/60/501e226f629976acc147d3f71951fe01232a2702c014945327467a9ddb14/voila-0.1.22-py3-none-any.whl (5.9MB)\n",
            "\u001b[K     |████████████████████████████████| 5.9MB 5.8MB/s \n",
            "\u001b[?25hCollecting jupyterlab-pygments<0.2,>=0.1.0\n",
            "  Downloading https://files.pythonhosted.org/packages/1f/4c/905faabb03f56ba92b1b9049436afead02bc09aae7e8f0d1107ebb46b151/jupyterlab_pygments-0.1.1-py2.py3-none-any.whl\n",
            "Collecting async-generator\n",
            "  Downloading https://files.pythonhosted.org/packages/71/52/39d20e03abd0ac9159c162ec24b93fbcaa111e8400308f2465432495ca2b/async_generator-1.10-py3-none-any.whl\n",
            "Collecting jupyter-server<0.2.0,>=0.1.0\n",
            "\u001b[?25l  Downloading https://files.pythonhosted.org/packages/0f/9e/4b5bddfbab2f56b561b672d04c300d6c2d4b3f2c7c99e7935892104f2efa/jupyter_server-0.1.1-py2.py3-none-any.whl (183kB)\n",
            "\u001b[K     |████████████████████████████████| 184kB 52.3MB/s \n",
            "\u001b[?25hRequirement already satisfied: nbconvert<6,>=5.5.0 in /usr/local/lib/python3.6/dist-packages (from voila) (5.6.1)\n",
            "Collecting pygments<3,>=2.4.1\n",
            "\u001b[?25l  Downloading https://files.pythonhosted.org/packages/2d/68/106af3ae51daf807e9cdcba6a90e518954eb8b70341cee52995540a53ead/Pygments-2.6.1-py3-none-any.whl (914kB)\n",
            "\u001b[K     |████████████████████████████████| 921kB 54.6MB/s \n",
            "\u001b[?25hRequirement already satisfied: tornado>=4 in /usr/local/lib/python3.6/dist-packages (from jupyter-server<0.2.0,>=0.1.0->voila) (5.1.1)\n",
            "Requirement already satisfied: Send2Trash in /usr/local/lib/python3.6/dist-packages (from jupyter-server<0.2.0,>=0.1.0->voila) (1.5.0)\n",
            "Requirement already satisfied: terminado>=0.8.1 in /usr/local/lib/python3.6/dist-packages (from jupyter-server<0.2.0,>=0.1.0->voila) (0.8.3)\n",
            "Requirement already satisfied: jinja2 in /usr/local/lib/python3.6/dist-packages (from jupyter-server<0.2.0,>=0.1.0->voila) (2.11.2)\n",
            "Requirement already satisfied: ipykernel in /usr/local/lib/python3.6/dist-packages (from jupyter-server<0.2.0,>=0.1.0->voila) (4.10.1)\n",
            "Requirement already satisfied: pyzmq>=17 in /usr/local/lib/python3.6/dist-packages (from jupyter-server<0.2.0,>=0.1.0->voila) (19.0.2)\n",
            "Requirement already satisfied: nbformat in /usr/local/lib/python3.6/dist-packages (from jupyter-server<0.2.0,>=0.1.0->voila) (5.0.7)\n",
            "Requirement already satisfied: jupyter-core>=4.4.0 in /usr/local/lib/python3.6/dist-packages (from jupyter-server<0.2.0,>=0.1.0->voila) (4.6.3)\n",
            "Requirement already satisfied: jupyter-client>=5.3.1 in /usr/local/lib/python3.6/dist-packages (from jupyter-server<0.2.0,>=0.1.0->voila) (5.3.5)\n",
            "Requirement already satisfied: traitlets>=4.2.1 in /usr/local/lib/python3.6/dist-packages (from jupyter-server<0.2.0,>=0.1.0->voila) (4.3.3)\n",
            "Requirement already satisfied: prometheus-client in /usr/local/lib/python3.6/dist-packages (from jupyter-server<0.2.0,>=0.1.0->voila) (0.8.0)\n",
            "Requirement already satisfied: ipython-genutils in /usr/local/lib/python3.6/dist-packages (from jupyter-server<0.2.0,>=0.1.0->voila) (0.2.0)\n",
            "Requirement already satisfied: defusedxml in /usr/local/lib/python3.6/dist-packages (from nbconvert<6,>=5.5.0->voila) (0.6.0)\n",
            "Requirement already satisfied: testpath in /usr/local/lib/python3.6/dist-packages (from nbconvert<6,>=5.5.0->voila) (0.4.4)\n",
            "Requirement already satisfied: entrypoints>=0.2.2 in /usr/local/lib/python3.6/dist-packages (from nbconvert<6,>=5.5.0->voila) (0.3)\n",
            "Requirement already satisfied: bleach in /usr/local/lib/python3.6/dist-packages (from nbconvert<6,>=5.5.0->voila) (3.1.5)\n",
            "Requirement already satisfied: mistune<2,>=0.8.1 in /usr/local/lib/python3.6/dist-packages (from nbconvert<6,>=5.5.0->voila) (0.8.4)\n",
            "Requirement already satisfied: pandocfilters>=1.4.1 in /usr/local/lib/python3.6/dist-packages (from nbconvert<6,>=5.5.0->voila) (1.4.2)\n",
            "Requirement already satisfied: ptyprocess; os_name != \"nt\" in /usr/local/lib/python3.6/dist-packages (from terminado>=0.8.1->jupyter-server<0.2.0,>=0.1.0->voila) (0.6.0)\n",
            "Requirement already satisfied: MarkupSafe>=0.23 in /usr/local/lib/python3.6/dist-packages (from jinja2->jupyter-server<0.2.0,>=0.1.0->voila) (1.1.1)\n",
            "Requirement already satisfied: ipython>=4.0.0 in /usr/local/lib/python3.6/dist-packages (from ipykernel->jupyter-server<0.2.0,>=0.1.0->voila) (5.5.0)\n",
            "Requirement already satisfied: jsonschema!=2.5.0,>=2.4 in /usr/local/lib/python3.6/dist-packages (from nbformat->jupyter-server<0.2.0,>=0.1.0->voila) (2.6.0)\n",
            "Requirement already satisfied: python-dateutil>=2.1 in /usr/local/lib/python3.6/dist-packages (from jupyter-client>=5.3.1->jupyter-server<0.2.0,>=0.1.0->voila) (2.8.1)\n",
            "Requirement already satisfied: six in /usr/local/lib/python3.6/dist-packages (from traitlets>=4.2.1->jupyter-server<0.2.0,>=0.1.0->voila) (1.15.0)\n",
            "Requirement already satisfied: decorator in /usr/local/lib/python3.6/dist-packages (from traitlets>=4.2.1->jupyter-server<0.2.0,>=0.1.0->voila) (4.4.2)\n",
            "Requirement already satisfied: webencodings in /usr/local/lib/python3.6/dist-packages (from bleach->nbconvert<6,>=5.5.0->voila) (0.5.1)\n",
            "Requirement already satisfied: packaging in /usr/local/lib/python3.6/dist-packages (from bleach->nbconvert<6,>=5.5.0->voila) (20.4)\n",
            "Requirement already satisfied: pickleshare in /usr/local/lib/python3.6/dist-packages (from ipython>=4.0.0->ipykernel->jupyter-server<0.2.0,>=0.1.0->voila) (0.7.5)\n",
            "Requirement already satisfied: prompt-toolkit<2.0.0,>=1.0.4 in /usr/local/lib/python3.6/dist-packages (from ipython>=4.0.0->ipykernel->jupyter-server<0.2.0,>=0.1.0->voila) (1.0.18)\n",
            "Requirement already satisfied: simplegeneric>0.8 in /usr/local/lib/python3.6/dist-packages (from ipython>=4.0.0->ipykernel->jupyter-server<0.2.0,>=0.1.0->voila) (0.8.1)\n",
            "Requirement already satisfied: setuptools>=18.5 in /usr/local/lib/python3.6/dist-packages (from ipython>=4.0.0->ipykernel->jupyter-server<0.2.0,>=0.1.0->voila) (49.6.0)\n",
            "Requirement already satisfied: pexpect; sys_platform != \"win32\" in /usr/local/lib/python3.6/dist-packages (from ipython>=4.0.0->ipykernel->jupyter-server<0.2.0,>=0.1.0->voila) (4.8.0)\n",
            "Requirement already satisfied: pyparsing>=2.0.2 in /usr/local/lib/python3.6/dist-packages (from packaging->bleach->nbconvert<6,>=5.5.0->voila) (2.4.7)\n",
            "Requirement already satisfied: wcwidth in /usr/local/lib/python3.6/dist-packages (from prompt-toolkit<2.0.0,>=1.0.4->ipython>=4.0.0->ipykernel->jupyter-server<0.2.0,>=0.1.0->voila) (0.2.5)\n",
            "\u001b[31mERROR: datascience 0.10.6 has requirement folium==0.2.1, but you'll have folium 0.8.3 which is incompatible.\u001b[0m\n",
            "Installing collected packages: pygments, jupyterlab-pygments, async-generator, jupyter-server, voila\n",
            "  Found existing installation: Pygments 2.1.3\n",
            "    Uninstalling Pygments-2.1.3:\n",
            "      Successfully uninstalled Pygments-2.1.3\n",
            "Successfully installed async-generator-1.10 jupyter-server-0.1.1 jupyterlab-pygments-0.1.1 pygments-2.6.1 voila-0.1.22\n"
          ],
          "name": "stdout"
        },
        {
          "output_type": "display_data",
          "data": {
            "application/vnd.colab-display-data+json": {
              "pip_warning": {
                "packages": [
                  "pygments"
                ]
              }
            }
          },
          "metadata": {
            "tags": []
          }
        },
        {
          "output_type": "stream",
          "text": [
            "Enabling: voila\n",
            "- Writing config: /root/.jupyter\n",
            "    - Validating...\n",
            "Error loading server extension voila\n",
            "     \u001b[31m X\u001b[0m is voila importable?\n",
            "Enabling: —sys-prefix\n",
            "- Writing config: /root/.jupyter\n",
            "    - Validating...\n",
            "Error loading server extension —sys-prefix\n",
            "     \u001b[31m X\u001b[0m is —sys-prefix importable?\n"
          ],
          "name": "stdout"
        }
      ]
    },
    {
      "cell_type": "code",
      "metadata": {
        "id": "dD3jKnJKb7jS",
        "colab_type": "code",
        "colab": {}
      },
      "source": [
        "path = Path(root_dir)\n",
        "learn_inf = load_learner(path/'export.pkl', cpu=True)\n",
        "btn_upload = widgets.FileUpload()\n",
        "out_pl = widgets.Output()\n",
        "lbl_pred = widgets.Label()"
      ],
      "execution_count": null,
      "outputs": []
    },
    {
      "cell_type": "code",
      "metadata": {
        "id": "tr8oU4aFcbBY",
        "colab_type": "code",
        "colab": {}
      },
      "source": [
        "def on_data_change(change):\n",
        "    lbl_pred.value = ''\n",
        "    img = PILImage.create(btn_upload.data[-1])\n",
        "    out_pl.clear_output()\n",
        "    with out_pl: display(img.to_thumb(128,128))\n",
        "    pred,pred_idx,probs = learn_inf.predict(img)\n",
        "    lbl_pred.value = f'Prediction: {pred}; Probability: {probs[pred_idx]:.04f}'"
      ],
      "execution_count": null,
      "outputs": []
    },
    {
      "cell_type": "code",
      "metadata": {
        "id": "2WwnrbPlcbQJ",
        "colab_type": "code",
        "colab": {}
      },
      "source": [
        "btn_upload.observe(on_data_change, names=['data'])"
      ],
      "execution_count": null,
      "outputs": []
    },
    {
      "cell_type": "code",
      "metadata": {
        "id": "ReDzop7FcbeI",
        "colab_type": "code",
        "colab": {
          "base_uri": "https://localhost:8080/",
          "height": 241,
          "referenced_widgets": [
            "57d87c672fdc438d9667551a1aaf043b",
            "0b4936076dbd4a9e92a975bd19202cf6",
            "a8ebc9c9eac341788f131a8e9e200ce6",
            "74de810be21c48b297d2c9213cda525f",
            "49f36eb43b074ce983a8dc86f543accc",
            "8da7d9bd43204954b76d4917345c6403",
            "5524bd82e17043408b5d1b49004f908e",
            "5c7e0e9fc5c64506b26b2773688a267c",
            "d9c630ed0e5344abb2b33a1feac3a3ac",
            "fa52bcad86b141baa36600bfa851b271",
            "ddf5b08376b947e2b1877ae1f5eda754",
            "f5caf757163f47c6950d7bed927068f6",
            "8942e305d52f459fbcde33ec0f4dfdae"
          ]
        },
        "outputId": "8c4d2632-2e96-4a0b-ec99-9bb7cef7b132"
      },
      "source": [
        "display(VBox([widgets.Label('Select your bear!'), btn_upload, out_pl, lbl_pred]))"
      ],
      "execution_count": null,
      "outputs": [
        {
          "output_type": "display_data",
          "data": {
            "application/vnd.jupyter.widget-view+json": {
              "model_id": "57d87c672fdc438d9667551a1aaf043b",
              "version_minor": 0,
              "version_major": 2
            },
            "text/plain": [
              "VBox(children=(Label(value='Select your bear!'), FileUpload(value={}, description='Upload'), Output(), Label(v…"
            ]
          },
          "metadata": {
            "tags": []
          }
        },
        {
          "output_type": "display_data",
          "data": {
            "text/html": [
              ""
            ],
            "text/plain": [
              "<IPython.core.display.HTML object>"
            ]
          },
          "metadata": {
            "tags": []
          }
        }
      ]
    },
    {
      "cell_type": "code",
      "metadata": {
        "id": "LCCqDoaMcbqq",
        "colab_type": "code",
        "colab": {}
      },
      "source": [
        ""
      ],
      "execution_count": null,
      "outputs": []
    }
  ]
}